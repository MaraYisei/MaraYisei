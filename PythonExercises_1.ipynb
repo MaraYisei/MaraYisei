{
  "cells": [
    {
      "cell_type": "markdown",
      "metadata": {
        "id": "view-in-github",
        "colab_type": "text"
      },
      "source": [
        "<a href=\"https://colab.research.google.com/github/MaraYisei/MaraYisei/blob/main/PythonExercises_1.ipynb\" target=\"_parent\"><img src=\"https://colab.research.google.com/assets/colab-badge.svg\" alt=\"Open In Colab\"/></a>"
      ]
    },
    {
      "cell_type": "code",
      "execution_count": null,
      "metadata": {
        "colab": {
          "background_save": true,
          "base_uri": "https://localhost:8080/"
        },
        "id": "RcJ5hE4ubMUU",
        "outputId": "e16c112a-9573-483a-b46d-08dcbf238fc7"
      },
      "outputs": [
        {
          "name": "stdout",
          "output_type": "stream",
          "text": [
            "Welcome to Hangman!\n",
            "\n",
            "Word: _________\n",
            "Attempts left: 8\n"
          ]
        }
      ],
      "source": [
        "import random\n",
        "\n",
        "# Word options\n",
        "word_list = [\"python\", \"world\", \"programming\", \"artificial intelligence\", \"ice cream\"]\n",
        "\n",
        "# Function to choose a random word from the list\n",
        "def choose_word():\n",
        "    return random.choice(word_list)\n",
        "\n",
        "# Function to display the current state of the word\n",
        "def display_word(word, guessed_letters):\n",
        "    display = \"\"\n",
        "    for letter in word:\n",
        "        if letter in guessed_letters:\n",
        "            display += letter\n",
        "        else:\n",
        "            display += \"_\"\n",
        "    return display\n",
        "\n",
        "# Function to play\n",
        "def play_hangman():\n",
        "    attempts = 8\n",
        "    word_to_guess = choose_word()\n",
        "    guessed_letters = []\n",
        "\n",
        "    print(\"Welcome to Hangman!\")\n",
        "\n",
        "    while attempts > 0:\n",
        "        print(\"\\nWord:\", display_word(word_to_guess, guessed_letters))\n",
        "        print(\"Attempts left:\", attempts)\n",
        "\n",
        "        guess = input(\"Guess a letter: \").lower()\n",
        "\n",
        "        if len(guess) != 1 or not guess.isalpha():\n",
        "            print(\"Please enter a single letter.\")\n",
        "            continue\n",
        "\n",
        "        if guess in guessed_letters:\n",
        "            print(\"You've already guessed that letter.\")\n",
        "            continue\n",
        "\n",
        "        guessed_letters.append(guess)\n",
        "\n",
        "        if guess in word_to_guess:\n",
        "            print(\"Good guess!\")\n",
        "        else:\n",
        "            print(\"Incorrect guess.\")\n",
        "            attempts -= 1\n",
        "\n",
        "        if set(guessed_letters) == set(word_to_guess):\n",
        "            print(\"\\nCongratulations! You've guessed the word:\", word_to_guess)\n",
        "            break\n",
        "\n",
        "    if attempts == 0:\n",
        "        print(\"\\nOut of attempts! The word was:\", word_to_guess)\n",
        "\n",
        "if __name__ == \"__main__\":\n",
        "    play_hangman()\n",
        "\n"
      ]
    },
    {
      "cell_type": "code",
      "execution_count": null,
      "metadata": {
        "colab": {
          "base_uri": "https://localhost:8080/"
        },
        "id": "Dnwxi8u2Y61B",
        "outputId": "3dc74206-96e9-4a1e-a0a2-ec22ff20b8b1"
      },
      "outputs": [
        {
          "name": "stdout",
          "output_type": "stream",
          "text": [
            "Welcome to the Number Guessing Game!\n",
            "I've selected a random number between 1 and 100.\n",
            "Your guess: 3\n",
            "Too low! Try again.\n",
            "Your guess: 60\n",
            "Too low! Try again.\n",
            "Your guess: 79\n",
            "Too low! Try again.\n",
            "Your guess: 80\n",
            "Too low! Try again.\n",
            "Your guess: 99\n",
            "Too high! Try again.\n",
            "Your guess: 90\n",
            "Too high! Try again.\n",
            "Your guess: 85\n",
            "Too high! Try again.\n",
            "Your guess: 80\n",
            "Too low! Try again.\n",
            "Your guess: 83\n",
            "Too high! Try again.\n",
            "Your guess: 82\n",
            "Too high! Try again.\n",
            "Your guess: 81\n",
            "Congratulations! You've guessed the number 81 in 11 attempts.\n"
          ]
        }
      ],
      "source": [
        "import random\n",
        "\n",
        "# Generate a random number between 1 and 100\n",
        "target_number = random.randint(1, 100)\n",
        "\n",
        "# Function to play the Number Guessing Game\n",
        "def number_guessing_game():\n",
        "    attempts = 0\n",
        "\n",
        "    print(\"Welcome to the Number Guessing Game!\")\n",
        "    print(\"I've selected a random number between 1 and 100.\")\n",
        "\n",
        "    while True:\n",
        "        user_guess = input(\"Your guess: \")\n",
        "\n",
        "        try:\n",
        "            user_guess = int(user_guess)\n",
        "        except ValueError:\n",
        "            print(\"Please enter a valid number.\")\n",
        "            continue\n",
        "\n",
        "        attempts += 1\n",
        "\n",
        "        if user_guess < target_number:\n",
        "            print(\"Too low! Try again.\")\n",
        "        elif user_guess > target_number:\n",
        "            print(\"Too high! Try again.\")\n",
        "        else:\n",
        "            print(f\"Congratulations! You've guessed the number {target_number} in {attempts} attempts.\")\n",
        "            break\n",
        "\n",
        "if __name__ == \"__main__\":\n",
        "    number_guessing_game()\n"
      ]
    },
    {
      "cell_type": "code",
      "execution_count": 4,
      "metadata": {
        "id": "v7tw7Ml_aSMK",
        "colab": {
          "base_uri": "https://localhost:8080/"
        },
        "outputId": "4e32d51a-b65e-45a6-f5a7-4a20888e9153"
      },
      "outputs": [
        {
          "output_type": "stream",
          "name": "stdout",
          "text": [
            "Word count: 1546\n",
            "Sentence count: 55\n",
            "Paragraph count: 9\n",
            "Average word length: 5.31\n",
            "\n",
            "Most common words:\n",
            "de: 121\n",
            "la: 82\n",
            "el: 58\n",
            "a: 53\n",
            "en: 41\n",
            "y: 40\n",
            "n: 39\n",
            "del: 39\n",
            "que: 37\n",
            "sistema: 19\n"
          ]
        }
      ],
      "source": [
        "import re\n",
        "import collections\n",
        "\n",
        "# Function to count words, sentences, and paragraphs\n",
        "def count_text_metrics(text):\n",
        "    words = text.split()\n",
        "    sentences = re.split(r'[.!?]', text)\n",
        "    paragraphs = text.split('\\n\\n')\n",
        "    return len(words), len(sentences) - 1, len(paragraphs)\n",
        "\n",
        "# Function to calculate the average word length\n",
        "def calculate_average_word_length(text):\n",
        "    words = text.split()\n",
        "    total_word_length = sum(len(word) for word in words)\n",
        "    return total_word_length / len(words) if len(words) > 0 else 0\n",
        "\n",
        "# Function to identify the most common words and their frequencies\n",
        "def find_most_common_words(text, num_words=10):\n",
        "    words = re.findall(r'\\b\\w+\\b', text.lower())\n",
        "    word_freq = collections.Counter(words)\n",
        "    return word_freq.most_common(num_words)\n",
        "\n",
        "# Read the text file\n",
        "file_path = '/content/metrologia tarea 1.txt'  # Replace with the path to your text file\n",
        "with open(file_path, 'r', encoding='utf-8') as file:\n",
        "    text = file.read()\n",
        "\n",
        "# Analyze the text\n",
        "word_count, sentence_count, paragraph_count = count_text_metrics(text)\n",
        "average_word_length = calculate_average_word_length(text)\n",
        "common_words = find_most_common_words(text, num_words=10)\n",
        "\n",
        "# Display the results\n",
        "print(f\"Word count: {word_count}\")\n",
        "print(f\"Sentence count: {sentence_count}\")\n",
        "print(f\"Paragraph count: {paragraph_count}\")\n",
        "print(f\"Average word length: {average_word_length:.2f}\")\n",
        "print(\"\\nMost common words:\")\n",
        "for word, frequency in common_words:\n",
        "    print(f\"{word}: {frequency}\")\n"
      ]
    }
  ],
  "metadata": {
    "colab": {
      "provenance": [],
      "authorship_tag": "ABX9TyOFCvmzgxdNwgqquNwCqL/z",
      "include_colab_link": true
    },
    "kernelspec": {
      "display_name": "Python 3",
      "name": "python3"
    },
    "language_info": {
      "name": "python"
    }
  },
  "nbformat": 4,
  "nbformat_minor": 0
}